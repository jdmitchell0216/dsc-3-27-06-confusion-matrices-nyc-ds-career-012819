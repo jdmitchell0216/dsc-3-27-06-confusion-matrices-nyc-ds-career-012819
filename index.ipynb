{
 "cells": [
  {
   "cell_type": "markdown",
   "metadata": {},
   "source": [
    "# Confusion Matrices\n",
    "\n",
    "## Introduction\n",
    "\n",
    "In this lesson, we'll learn to construct, visualize, and interpret a **_Confusion Matrix_** to evaluate the performance of a classifier!\n",
    "\n",
    "## Objectives\n",
    "\n",
    "You will be able to:\n",
    "\n",
    "* Create and interpret a Confusion Matrix using numpy\n",
    "* Create and interpret a Confusion Matrix using sklearn\n",
    "\n",
    "## How to Evaluate Classifier Performance?\n",
    "\n",
    "So far, we've spent most of our time learning the ins and outs of Regression Analysis.  Regression allows us to answer \"how much/how many\" questions. We've learned how to interpret important regression model statistics such as $R^2$ and select appropriate predictors by evaluating their p-values. However, the statistics that help us evaluate the quality of our regression models aren't something we can use to evaluate the performance of a classifier. For that, we need a **_Confusion Matrix_**! \n",
    "\n",
    "A Confusion Matrix tells us 4 important things.  For this explanation, let's assume our model was trained for a **_Binary Classification_** task, meaning that every item in the data set has a ground-truth value of 1 or 0. To make it easier to understand, let's pretend our model is trying to predict whether or not someone has a disease. \n",
    "\n",
    "**_True Positives (TP)_**: The model predicted the person has the disease (1), and they actually have the disease (1).\n",
    "\n",
    "**_True Negatives (TN)_**: The model predicted the person is healthy (0), and they are actually healthy (0).\n",
    "\n",
    "**_False Positives (FP)_**: The model predicted the person has the disease (1), but they are actually healthy (0). \n",
    "\n",
    "**_False Negatives (FN)_**: The model predicted the person is healthy (0), but they actually have the disease (1).\n",
    "\n",
    "Let's take a look at an example Confusion Matrix:\n",
    "\n",
    "<img src='rf-conf-matrix.png'>\n",
    "\n",
    "As we can see, one axis of the Confusion Matrix represents the ground-truth value of the items the model made predictions on, while the other axis represents the label predicted by the classifier. We read a confusion matrix by looking at the intersection of each row and column to tell what each cell represents. For instance, in the example above, the bottom right square represents _True Positives_, because it is the intersection of \"True Label: 1\" row and the \"Predicted Label: 1\" column. \n",
    "\n",
    "Take another look at the diagram above and see if you can figure out which cell which cells represent TP, FP, and FN. \n",
    "\n",
    "## Constructing a Confusion Matrix\n",
    "\n",
    "In order to construct a Confusion Matrix, we need 2 things:\n",
    "\n",
    "* Predictions for each data point in a training or testing set. \n",
    "* Labels for the same data points in that training or testing set. \n",
    "\n",
    "Writing a Confusion Matrix from scratch in Python is a pretty intuitive process, since our labels and our predictions have the same order (e.g. `predictions[0]` and `lablels[0]` both refer to the same row in our dataset).\n",
    "\n",
    "To create a Confusion Matrix from scratch, we:\n",
    "\n",
    "1. Iterate through both lists and grab the item at the same the label and corresponding prediction.  Note that `enumerate` is great here, since it gives us both an item and the index of that item from a list. \n",
    "2. Use some control flow to determine if its a TP, TN, FP, or FN. \n",
    "3. Store our results in a dictionary or 2-dimensional array. \n",
    "4. Return our results once we've checked every prediction against its corresponding label. "
   ]
  },
  {
   "cell_type": "code",
   "execution_count": 2,
   "metadata": {},
   "outputs": [
    {
     "data": {
      "text/plain": [
       "{'TP': 4, 'FP': 3, 'TN': 2, 'FN': 2}"
      ]
     },
     "execution_count": 2,
     "metadata": {},
     "output_type": "execute_result"
    }
   ],
   "source": [
    "def confusion_matrix(labels, predictions):\n",
    "    conf_matrix = {\"TP\": 0, \"FP\": 0, \"TN\": 0, \"FN\": 0}\n",
    "    for ind, label in enumerate(labels):\n",
    "        pred = predictions[ind]\n",
    "        if label == 1:\n",
    "            # CASE: True Positive\n",
    "            if label == pred:\n",
    "                conf_matrix['TP'] += 1\n",
    "            # CASE: False Negative \n",
    "            else:\n",
    "                conf_matrix['FN'] += 1\n",
    "        else:\n",
    "            # CASE: True Negative\n",
    "            if label == pred:\n",
    "                conf_matrix['TN'] += 1\n",
    "            # CASE: False Positive\n",
    "            else:\n",
    "                conf_matrix['FP'] += 1\n",
    "    \n",
    "    return conf_matrix\n",
    "\n",
    "example_preds = [1, 1, 0, 0, 1, 1, 1, 0, 1, 0, 1]\n",
    "example_labels= [1, 0, 0, 0, 1, 1, 0, 1, 1, 1, 0]\n",
    "\n",
    "confusion_matrix(example_labels, example_preds)"
   ]
  },
  {
   "cell_type": "markdown",
   "metadata": {},
   "source": [
    "Take a look at the `example_preds` and `example_labels` lists in the cell above. Confirm that the counts in the confusion matrix the function output are correct--it's good practice to be able to do this manually!\n",
    "\n",
    "## Confusion Matrices for Multi-Categorical Classification Problems\n",
    "\n",
    "So far, we've kept it simple by only focusing on Confusion Matrices for binary classification problems. However, it's common to see classification tasks that **_Multi-categorical_** in nature. We can keep track of these by just expanding the number of rows and columns in our confusion matrix!\n",
    "\n",
    "<img src='cm2.png'>\n",
    "\n",
    "This example is from the Reuters Newsgroups dataset. As we can see in the example above, we just use an equivalent number of rows and columns, with each row and column sharing the same index referring to the same class. In this, the true labels are represented by the rows, while the predicted classes are reperesented by the columns. \n",
    "\n",
    "Take a look at the diagonal starting in the top-left and moving down and to the right. This diagonal represents our **_True Positives_**, since the indexes are the same for both row and column. For instance, we can see at location \\[19, 19\\] that 281 political articles about guns were correctly classified as political articles about guns. Since our model is multi-categorical, we may also be interested in exactly **_how_** a model was incorrect with certain predictions. For instance, by looking at \\[4, 19\\] that 33 articles that were of category _talk.politics.misc_ were incorrectly classified as _talk.politics.guns_.  Note that when viewed through the lens of the _talk.politics.misc_, these are **_False Negatives_**--our model said they weren't about this topic, and they were. However, they are also **_False Positives_** for _talk.politics.guns_, since our model said they were about this, and they weren't!\n",
    "\n",
    "\n",
    "### Using sklearn To Create Confusion Matrices\n",
    "\n",
    "Since **_Confusion Matrices_** are a vital part of evaluating supervised learning classification problems, it's only natural that sklearn has provided a quick and easy way to create them. You'll find the `confusion_matrix()` function inside the `sklearn.metrics` module. This function expects two arguments--the labels, and the predictions, in that order. "
   ]
  },
  {
   "cell_type": "code",
   "execution_count": 3,
   "metadata": {},
   "outputs": [
    {
     "data": {
      "text/plain": [
       "array([[2, 3],\n",
       "       [2, 4]])"
      ]
     },
     "execution_count": 3,
     "metadata": {},
     "output_type": "execute_result"
    }
   ],
   "source": [
    "from sklearn.metrics import confusion_matrix\n",
    "\n",
    "cf = confusion_matrix(example_labels, example_preds)\n",
    "cf"
   ]
  },
  {
   "cell_type": "markdown",
   "metadata": {},
   "source": [
    "Take a minute to compare the output of this confusion matrix to the output of the one we created manually and ensure that everything matches up!\n",
    "\n",
    "One nice thing about using sklearn's implementation of a confusion matrix is that it automatically adjusts to the number of categories present in the labels. For example:"
   ]
  },
  {
   "cell_type": "code",
   "execution_count": 4,
   "metadata": {},
   "outputs": [
    {
     "data": {
      "text/plain": [
       "array([[2, 0, 1, 0],\n",
       "       [0, 2, 1, 1],\n",
       "       [0, 1, 3, 0],\n",
       "       [1, 0, 0, 2]])"
      ]
     },
     "execution_count": 4,
     "metadata": {},
     "output_type": "execute_result"
    }
   ],
   "source": [
    "ex2_labels = [0, 1, 2, 2, 3, 1, 0, 2, 1, 2, 3, 3, 1, 0]\n",
    "ex2_preds =  [0, 1, 1, 2, 3, 3, 2, 2, 1, 2, 3, 0, 2, 0]\n",
    "\n",
    "cf2 = confusion_matrix(ex2_labels, ex2_preds)\n",
    "cf2"
   ]
  },
  {
   "cell_type": "markdown",
   "metadata": {},
   "source": [
    "Take a minute to examine the output above, and see if you can interpret the Confusion Matrix correctly. For instance, see if you can figure out how many 3's were mistakenly predicted to be a 0. \n",
    "\n",
    "## Visualizing Confusion Matrices with Matplotlib\n",
    "\n",
    "As a final topic on this subject, we'll go over some brief boilerplate code for how we can visualize a confusion matrix using matplotlib. Don't worry if you don't understand this code off the bat--the more you use it and play around with it, the more you'll understand it. \n",
    "\n",
    "The following function shows how to take some labels and predictions and create a nice, stylized visual representation of a confusion matrix:"
   ]
  },
  {
   "cell_type": "code",
   "execution_count": null,
   "metadata": {},
   "outputs": [],
   "source": [
    "import numpy as np\n",
    "import itertools\n",
    "import matplotlib.pyplot as plt\n",
    "% matplotlib inline\n",
    "\n",
    "def show_cf(y_true, y_pred, class_names=None, model_name=None):\n",
    "    cf = confusion_matrix(y_true, y_pred)\n",
    "    plt.imshow(cf, cmap=plt.cm.Blues)\n",
    "    \n",
    "    if model_name:\n",
    "        plt.title(\"Confusion Matrix: {}\".format(model_name))\n",
    "    else:\n",
    "        plt.title(\"Confusion Matrix\")\n",
    "    plt.ylabel('True Label')\n",
    "    plt.xlabel('Predicted Label')\n",
    "    \n",
    "    class_names = set(y_true)\n",
    "    tick_marks = np.arange(len(class_names))\n",
    "    if class_names:\n",
    "        plt.xticks(tick_marks, class_names)\n",
    "        plt.yticks(tick_marks, class_names)\n",
    "    \n",
    "    thresh = cf.max() / 2.\n",
    "    \n",
    "    for i, j in itertools.product(range(cf.shape[0]), range(cf.shape[1])):\n",
    "        plt.text(j, i, cf[i, j], horizontalalignment='center', color='white' if cf[i, j] > thresh else 'black')\n",
    "\n",
    "    plt.colorbar()\n",
    "\n",
    "show_cf(example_labels, example_preds)"
   ]
  },
  {
   "cell_type": "markdown",
   "metadata": {},
   "source": [
    "Note that we can also use this function to visualize multi-categorical confusion matrices!"
   ]
  },
  {
   "cell_type": "code",
   "execution_count": 5,
   "metadata": {},
   "outputs": [
    {
     "data": {
      "image/png": "[encoded data removed]",
      "text/plain": [
       "<matplotlib.figure.Figure at 0x10c9b0ac8>"
      ]
     },
     "metadata": {},
     "output_type": "display_data"
    }
   ],
   "source": [
    "show_cf(ex2_labels, ex2_preds)"
   ]
  },
  {
   "cell_type": "markdown",
   "metadata": {},
   "source": [
    "## Summary\n",
    "\n",
    "On their own, Confusion Matrices are a very handy tool to help us understand at a glance how well a classification model is performing. However, we'll see that the truly useful information comes when we use confusion matrices to calculate **_Evaluation Metrics_** such as accuracy, precision, and recall!"
   ]
  }
 ],
 "metadata": {
  "kernelspec": {
   "display_name": "Python 3",
   "language": "python",
   "name": "python3"
  },
  "language_info": {
   "codemirror_mode": {
    "name": "ipython",
    "version": 3
   },
   "file_extension": ".py",
   "mimetype": "text/x-python",
   "name": "python",
   "nbconvert_exporter": "python",
   "pygments_lexer": "ipython3",
   "version": "3.6.6"
  }
 },
 "nbformat": 4,
 "nbformat_minor": 2
}
